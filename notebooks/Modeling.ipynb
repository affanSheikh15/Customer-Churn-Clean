{
 "cells": [
  {
   "cell_type": "code",
   "execution_count": 18,
   "id": "0601cb45",
   "metadata": {},
   "outputs": [],
   "source": [
    "import pandas as pd\n",
    "from sklearn.linear_model import LogisticRegression\n",
    "from sklearn.ensemble import RandomForestClassifier\n",
    "from xgboost import XGBClassifier\n",
    "from sklearn.metrics import classification_report\n",
    "from sklearn.pipeline import Pipeline\n",
    "from sklearn.preprocessing import StandardScaler\n",
    "from sklearn.metrics import f1_score\n",
    "import joblib\n"
   ]
  },
  {
   "cell_type": "code",
   "execution_count": 12,
   "id": "c7735177",
   "metadata": {},
   "outputs": [],
   "source": [
    "train = pd.read_csv('../data/processed/train_data.csv')\n",
    "test = pd.read_csv('../data/processed/test_data.csv')"
   ]
  },
  {
   "cell_type": "code",
   "execution_count": 13,
   "id": "44ca7e81",
   "metadata": {},
   "outputs": [],
   "source": [
    "X_train = train.drop(columns=['CHURN'])\n",
    "y_train = train['CHURN'].map({'Yes':1,'No':0})\n",
    "X_test = test.drop(columns=['CHURN'])\n",
    "y_test = test['CHURN'].map({'Yes':1,'No':0})"
   ]
  },
  {
   "cell_type": "code",
   "execution_count": 24,
   "id": "bc7ad09d",
   "metadata": {},
   "outputs": [],
   "source": [
    "models = {\n",
    "    'LogisticRegression': LogisticRegression(max_iter=1000,class_weight='balanced'),\n",
    "    'RandomForest': RandomForestClassifier(n_estimators=100,random_state=42),\n",
    "    'XGBoost': XGBClassifier(use_label_encoder=False,eval_metric='logloss')    \n",
    "}"
   ]
  },
  {
   "cell_type": "code",
   "execution_count": 25,
   "id": "ab38ca0b",
   "metadata": {},
   "outputs": [
    {
     "name": "stdout",
     "output_type": "stream",
     "text": [
      "Training LogisticRegression...\n",
      "LogisticRegression Classification Report:\n",
      "              precision    recall  f1-score   support\n",
      "\n",
      "           0       0.95      1.00      0.97      1603\n",
      "           1       0.50      0.02      0.04        88\n",
      "\n",
      "    accuracy                           0.95      1691\n",
      "   macro avg       0.72      0.51      0.51      1691\n",
      "weighted avg       0.93      0.95      0.92      1691\n",
      "\n",
      "Training RandomForest...\n",
      "RandomForest Classification Report:\n",
      "              precision    recall  f1-score   support\n",
      "\n",
      "           0       0.95      1.00      0.97      1603\n",
      "           1       0.00      0.00      0.00        88\n",
      "\n",
      "    accuracy                           0.95      1691\n",
      "   macro avg       0.47      0.50      0.49      1691\n",
      "weighted avg       0.90      0.95      0.92      1691\n",
      "\n",
      "Training XGBoost...\n"
     ]
    },
    {
     "name": "stderr",
     "output_type": "stream",
     "text": [
      "c:\\Users\\Usser\\anaconda3\\envs\\freelancer_env\\Lib\\site-packages\\sklearn\\metrics\\_classification.py:1565: UndefinedMetricWarning: Precision is ill-defined and being set to 0.0 in labels with no predicted samples. Use `zero_division` parameter to control this behavior.\n",
      "  _warn_prf(average, modifier, f\"{metric.capitalize()} is\", len(result))\n",
      "c:\\Users\\Usser\\anaconda3\\envs\\freelancer_env\\Lib\\site-packages\\sklearn\\metrics\\_classification.py:1565: UndefinedMetricWarning: Precision is ill-defined and being set to 0.0 in labels with no predicted samples. Use `zero_division` parameter to control this behavior.\n",
      "  _warn_prf(average, modifier, f\"{metric.capitalize()} is\", len(result))\n",
      "c:\\Users\\Usser\\anaconda3\\envs\\freelancer_env\\Lib\\site-packages\\sklearn\\metrics\\_classification.py:1565: UndefinedMetricWarning: Precision is ill-defined and being set to 0.0 in labels with no predicted samples. Use `zero_division` parameter to control this behavior.\n",
      "  _warn_prf(average, modifier, f\"{metric.capitalize()} is\", len(result))\n",
      "c:\\Users\\Usser\\anaconda3\\envs\\freelancer_env\\Lib\\site-packages\\xgboost\\training.py:183: UserWarning: [11:22:07] WARNING: C:\\actions-runner\\_work\\xgboost\\xgboost\\src\\learner.cc:738: \n",
      "Parameters: { \"use_label_encoder\" } are not used.\n",
      "\n",
      "  bst.update(dtrain, iteration=i, fobj=obj)\n"
     ]
    },
    {
     "name": "stdout",
     "output_type": "stream",
     "text": [
      "XGBoost Classification Report:\n",
      "              precision    recall  f1-score   support\n",
      "\n",
      "           0       0.95      1.00      0.97      1603\n",
      "           1       0.20      0.02      0.04        88\n",
      "\n",
      "    accuracy                           0.94      1691\n",
      "   macro avg       0.57      0.51      0.51      1691\n",
      "weighted avg       0.91      0.94      0.92      1691\n",
      "\n"
     ]
    }
   ],
   "source": [
    "model_scores = {}\n",
    "\n",
    "\n",
    "for name,model in models.items():\n",
    "    print(f'Training {name}...')\n",
    "    pipeline = Pipeline([\n",
    "        ('scaler',StandardScaler()),\n",
    "        ('classifier',model)\n",
    "    ])\n",
    "    pipeline.fit(X_train,y_train)\n",
    "    y_pred = pipeline.predict(X_test)\n",
    "    print(f'{name} Classification Report:')\n",
    "    print(classification_report(y_test,y_pred))"
   ]
  },
  {
   "cell_type": "code",
   "execution_count": 26,
   "id": "fc6d0eef",
   "metadata": {},
   "outputs": [
    {
     "data": {
      "text/plain": [
       "['../models/xgboost_pipeline.joblib']"
      ]
     },
     "execution_count": 26,
     "metadata": {},
     "output_type": "execute_result"
    }
   ],
   "source": [
    "import os\n",
    "os.makedirs(\"../models\", exist_ok=True)\n",
    "joblib.dump(pipeline, f\"../models/{name.lower().replace(' ', '_')}_pipeline.joblib\")\n"
   ]
  },
  {
   "cell_type": "code",
   "execution_count": 27,
   "id": "f254124d",
   "metadata": {},
   "outputs": [],
   "source": [
    "model_scores[name] = f1_score(y_test,y_pred)"
   ]
  },
  {
   "cell_type": "code",
   "execution_count": 29,
   "id": "b4ad4fd9",
   "metadata": {},
   "outputs": [
    {
     "name": "stdout",
     "output_type": "stream",
     "text": [
      "\n",
      " Best Model : XGBoost with F1 Score : 0.04081632653061224\n"
     ]
    }
   ],
   "source": [
    "best_model_name = max(model_scores, key=model_scores.get)\n",
    "print(f\"\\n Best Model : {best_model_name} with F1 Score : {model_scores[best_model_name]}\")\n",
    "\n"
   ]
  },
  {
   "cell_type": "code",
   "execution_count": 30,
   "id": "7ad653d3",
   "metadata": {},
   "outputs": [
    {
     "name": "stdout",
     "output_type": "stream",
     "text": [
      " Best model saved as ../models/best_model_pipeline.joblib\n"
     ]
    }
   ],
   "source": [
    "best_model_path = \"../models/best_model_pipeline.joblib\"\n",
    "best_model = joblib.load(f\"../models/{best_model_name.lower().replace(' ', '_')}_pipeline.joblib\")\n",
    "joblib.dump(best_model, best_model_path)\n",
    "print(f\" Best model saved as {best_model_path}\")\n"
   ]
  },
  {
   "cell_type": "code",
   "execution_count": null,
   "id": "177b0ece",
   "metadata": {},
   "outputs": [],
   "source": []
  }
 ],
 "metadata": {
  "kernelspec": {
   "display_name": "freelancer_env",
   "language": "python",
   "name": "python3"
  },
  "language_info": {
   "codemirror_mode": {
    "name": "ipython",
    "version": 3
   },
   "file_extension": ".py",
   "mimetype": "text/x-python",
   "name": "python",
   "nbconvert_exporter": "python",
   "pygments_lexer": "ipython3",
   "version": "3.11.13"
  }
 },
 "nbformat": 4,
 "nbformat_minor": 5
}
